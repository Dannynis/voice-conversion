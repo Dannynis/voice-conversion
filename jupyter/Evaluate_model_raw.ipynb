{
 "cells": [
  {
   "cell_type": "code",
   "execution_count": 1,
   "metadata": {},
   "outputs": [],
   "source": [
    "import sys\n",
    "sys.path.append('..')\n",
    "import os\n",
    "os.chdir('..')\n",
    "import numpy as np\n",
    "import torch\n",
    "import torchaudio\n",
    "import os.path\n",
    "from util.arg_extractor import extract_args_from_json\n",
    "from experiment_builders.vqvae_builder import VQVAERawExperimentBuilder\n",
    "from experiment_builders.vae_builder import VAERawExperimentBuilder\n",
    "from models.common_networks import QuantisedInputModuleWrapper\n",
    "from models.vqvae import VQVAE\n",
    "from models.vae import VAE\n",
    "from datasets.vcc_raw_dataset import VCCRawDataset\n",
    "from datasets.vctk_dataset import VCTKDataset\n",
    "from datasets.vctk_preprocessor import read_audio as read_audio_vctk\n",
    "import util.torchaudio_transforms as transforms\n",
    "import librosa.display\n",
    "import matplotlib.pyplot as plt\n",
    "import math\n",
    "torch.set_printoptions(profile=\"full\")"
   ]
  },
  {
   "cell_type": "code",
   "execution_count": 42,
   "metadata": {},
   "outputs": [],
   "source": [
    "args = extract_args_from_json('experiment_configs/vae_vcc_raw.json')\n",
    "args.continue_from_epoch = 0\n",
    "args.eval_out_path='audio_out'\n",
    "args.eval_audio_path = 'data/vcc2016_training/SF1/100001.wav' "
   ]
  },
  {
   "cell_type": "code",
   "execution_count": 43,
   "metadata": {
    "scrolled": true
   },
   "outputs": [
    {
     "name": "stdout",
     "output_type": "stream",
     "text": [
      "torch.Size([1, 48829])\n"
     ]
    }
   ],
   "source": [
    "# Load audio\n",
    "audio_path = os.path.expanduser(args.eval_audio_path)\n",
    "torchaudio.initialize_sox()\n",
    "audio, sr = read_audio_vctk(audio_path, downsample=True, trim_silence=True)\n",
    "torchaudio.shutdown_sox()\n",
    "print(audio.shape)"
   ]
  },
  {
   "cell_type": "code",
   "execution_count": 44,
   "metadata": {},
   "outputs": [
    {
     "name": "stdout",
     "output_type": "stream",
     "text": [
      "[ 0.03265381  0.03564453  0.03857422 ...  0.00881958  0.01223755\n",
      " -0.01965332]\n",
      "torch.Size([1, 1, 48829])\n",
      "torch.Size([5, 1, 8192])\n"
     ]
    },
    {
     "data": {
      "image/png": "[encoded data removed]",
      "text/plain": [
       "<Figure size 432x288 with 1 Axes>"
      ]
     },
     "metadata": {
      "needs_background": "light"
     },
     "output_type": "display_data"
    }
   ],
   "source": [
    "audio = audio.unsqueeze(0)\n",
    "audio_plain = audio.numpy()[0, 0]\n",
    "print(audio_plain)\n",
    "plt.figure()\n",
    "librosa.display.waveplot(audio_plain)\n",
    "print(audio.shape)\n",
    "audio_split = audio[:, :, :audio.shape[-1] - (audio.shape[-1] % args.input_len)]\n",
    "audio_split = audio_split.view(int(audio.shape[-1] / args.input_len), 1, args.input_len)\n",
    "print(audio_split.shape)"
   ]
  },
  {
   "cell_type": "markdown",
   "metadata": {},
   "source": [
    "## VQVAE"
   ]
  },
  {
   "cell_type": "code",
   "execution_count": 33,
   "metadata": {},
   "outputs": [
    {
     "name": "stdout",
     "output_type": "stream",
     "text": [
      "Building VQVAE.\n",
      "Building Encoder with 6 downsampling layers.\n",
      "torch.Size([1, 1, 8192])\n",
      "torch.Size([1, 32, 2731])\n",
      "torch.Size([1, 32, 2731])\n",
      "torch.Size([1, 64, 911])\n",
      "torch.Size([1, 64, 911])\n",
      "torch.Size([1, 128, 304])\n",
      "torch.Size([1, 64, 304])\n",
      "Building VQ layer.\n",
      "VQ latent shape: torch.Size([1, 64, 304])\n",
      "speaker_out shape: torch.Size([1, 64, 304])\n",
      "Building Decoder/Generator with 7 upsampling layers.\n",
      "torch.Size([1, 64, 304])\n",
      "torch.Size([1, 32, 912])\n",
      "torch.Size([1, 32, 912])\n",
      "torch.Size([1, 16, 2736])\n",
      "torch.Size([1, 16, 2736])\n",
      "torch.Size([1, 16, 8192])\n",
      "torch.Size([1, 16, 8192])\n",
      "torch.Size([1, 256, 8192])\n",
      "Building Quantised input module.\n",
      "/home/vaidas/Projects/mlpcw/experiments/vqvae_vcc_raw /home/vaidas/Projects/mlpcw/experiments/vqvae_vcc_raw/result_outputs\n",
      "Loading model train_model, at epoch 76.\n"
     ]
    }
   ],
   "source": [
    "mulaw = transforms.MuLawEncoding(quantization_channels=args.num_input_quantization_channels)\n",
    "mulaw_expanding = transforms.MuLawExpanding(quantization_channels=args.num_input_quantization_channels)\n",
    "\n",
    "# Prepare model\n",
    "vqvae_model = VQVAE(\n",
    "    input_shape=(1, 1, args.input_len),\n",
    "    encoder_arch=args.encoder,\n",
    "    vq_arch=args.vq,\n",
    "    generator_arch=args.generator,\n",
    "    num_speakers=args.num_speakers,\n",
    "    speaker_dim=args.speaker_dim,\n",
    "    use_gated_convolutions=args.use_gated_convolutions)\n",
    "\n",
    "# Select epoch\n",
    "epoch = 76\n",
    "\n",
    "# Load model from state\n",
    "quantised_input_vqvae_model = QuantisedInputModuleWrapper(args.num_input_quantization_channels, vqvae_model)\n",
    "    \n",
    "vqvae_experiment = VQVAERawExperimentBuilder(network_model=quantised_input_vqvae_model,\n",
    "                                    experiment_name=args.experiment_name,\n",
    "                                    weight_decay_coefficient=args.weight_decay_coefficient,\n",
    "                                    learning_rate=args.learning_rate,\n",
    "                                    commit_coefficient=args.commit_coefficient,\n",
    "                                    device=torch.device('cpu'),\n",
    "                                    continue_from_epoch=epoch,\n",
    "                                    train_data=None,\n",
    "                                    val_data=None,\n",
    "                                    num_epochs=None)"
   ]
  },
  {
   "cell_type": "code",
   "execution_count": 34,
   "metadata": {},
   "outputs": [],
   "source": [
    "args.eval_speaker_id = 5\n",
    "# Prepare speaker tensor\n",
    "speaker_id = torch.tensor(args.eval_speaker_id, dtype=torch.long)"
   ]
  },
  {
   "cell_type": "code",
   "execution_count": 38,
   "metadata": {},
   "outputs": [
    {
     "name": "stdout",
     "output_type": "stream",
     "text": [
      "torch.Size([5, 8192])\n"
     ]
    }
   ],
   "source": [
    "out_mulaw = vqvae_experiment.convert(x=mulaw(audio_split), y=speaker_id)\n",
    "\n",
    "out = mulaw_expanding(out_mulaw).detach()\n",
    "print(out.shape)\n",
    "out = out.view(1, -1)"
   ]
  },
  {
   "cell_type": "code",
   "execution_count": 39,
   "metadata": {},
   "outputs": [
    {
     "data": {
      "text/plain": [
       "<matplotlib.collections.PolyCollection at 0x7fbe29558b38>"
      ]
     },
     "execution_count": 39,
     "metadata": {},
     "output_type": "execute_result"
    },
    {
     "data": {
      "image/png": "[encoded data removed]",
      "text/plain": [
       "<Figure size 432x288 with 1 Axes>"
      ]
     },
     "metadata": {
      "needs_background": "light"
     },
     "output_type": "display_data"
    }
   ],
   "source": [
    "plt.figure()\n",
    "librosa.display.waveplot(out[0].numpy())"
   ]
  },
  {
   "cell_type": "code",
   "execution_count": 41,
   "metadata": {},
   "outputs": [],
   "source": [
    "out_path = os.path.expanduser(args.eval_out_path)\n",
    "out_filename = 'vqvae_{}_{}_{}.wav'.format(os.path.basename(args.eval_audio_path).split('.')[0], args.eval_speaker_id, epoch)\n",
    "out_file_path = os.path.join(out_path, out_filename)\n",
    "\n",
    "# Save as audio\n",
    "torchaudio.save(filepath=out_file_path, src=out, sample_rate=sr)"
   ]
  },
  {
   "cell_type": "markdown",
   "metadata": {},
   "source": [
    "## VAE"
   ]
  },
  {
   "cell_type": "code",
   "execution_count": null,
   "metadata": {},
   "outputs": [],
   "source": [
    "# sample_len = args.input_max_len\n",
    "# audio_trimmed = audio\n",
    "# if audio.shape[-1] % sample_len > 0:\n",
    "#     # Cut the end of the sample if its too long to be equally split.\n",
    "#     audio_trimmed = audio[:,:, :audio.shape[-1] -(audio.shape[-1] % sample_len)]\n",
    "# audio_splits = audio_trimmed.squeeze(0).view(-1, sample_len).unsqueeze(1)\n",
    "# print(audio_splits.shape)"
   ]
  },
  {
   "cell_type": "code",
   "execution_count": 45,
   "metadata": {
    "scrolled": true
   },
   "outputs": [
    {
     "name": "stdout",
     "output_type": "stream",
     "text": [
      "Building VAE.\n",
      "Building Encoder with 6 downsampling layers.\n",
      "torch.Size([1, 1, 8192])\n",
      "torch.Size([1, 32, 2731])\n",
      "torch.Size([1, 32, 2731])\n",
      "torch.Size([1, 64, 911])\n",
      "torch.Size([1, 64, 911])\n",
      "torch.Size([1, 128, 304])\n",
      "torch.Size([1, 64, 304])\n",
      "mean shape: torch.Size([1, 256])\n",
      "logvar shape: torch.Size([1, 256])\n",
      "latent shape: torch.Size([1, 256])\n",
      "latent_out shape: torch.Size([1, 19456])\n",
      "speaker_out shape: torch.Size([1, 19456])\n",
      "latent_out reshaped: torch.Size([1, 64, 304])\n",
      "Building Decoder/Generator with 7 upsampling layers.\n",
      "torch.Size([1, 64, 304])\n",
      "torch.Size([1, 32, 912])\n",
      "torch.Size([1, 32, 912])\n",
      "torch.Size([1, 16, 2736])\n",
      "torch.Size([1, 16, 2736])\n",
      "torch.Size([1, 16, 8192])\n",
      "torch.Size([1, 16, 8192])\n",
      "torch.Size([1, 256, 8192])\n",
      "Building Quantised input module.\n",
      "/home/vaidas/Projects/mlpcw/experiments/vae_vcc_raw /home/vaidas/Projects/mlpcw/experiments/vae_vcc_raw/result_outputs\n",
      "Loading model train_model, at epoch 48.\n"
     ]
    }
   ],
   "source": [
    "vae_model = VAE(\n",
    "    input_shape=(1, 1, args.input_len),\n",
    "    encoder_arch=args.encoder,\n",
    "    generator_arch=args.generator,\n",
    "    latent_dim=args.latent_dim,\n",
    "    num_speakers=args.num_speakers,\n",
    "    speaker_dim=args.speaker_dim,\n",
    "    use_gated_convolutions=args.use_gated_convolutions)\n",
    "\n",
    "# Select epoch\n",
    "epoch = 48\n",
    "\n",
    "# Load model from state\n",
    "quantised_input_vae_model = QuantisedInputModuleWrapper(args.num_input_quantization_channels, vae_model)\n",
    "\n",
    "vae_experiment = VAERawExperimentBuilder(network_model=quantised_input_vae_model,\n",
    "                                    experiment_name=args.experiment_name,\n",
    "                                    num_epochs=args.num_epochs,\n",
    "                                    weight_decay_coefficient=args.weight_decay_coefficient,\n",
    "                                    learning_rate=args.learning_rate,\n",
    "                                    device=torch.device('cpu'),\n",
    "                                    continue_from_epoch=epoch,\n",
    "                                    train_data=None,\n",
    "                                    val_data=None)"
   ]
  },
  {
   "cell_type": "code",
   "execution_count": 46,
   "metadata": {},
   "outputs": [],
   "source": [
    "args.eval_speaker_id = 5\n",
    "# Prepare speaker tensor\n",
    "speaker_id = torch.tensor(args.eval_speaker_id, dtype=torch.long)"
   ]
  },
  {
   "cell_type": "code",
   "execution_count": 49,
   "metadata": {},
   "outputs": [
    {
     "name": "stdout",
     "output_type": "stream",
     "text": [
      "torch.Size([5, 8192])\n"
     ]
    }
   ],
   "source": [
    "out_mulaw = vae_experiment.convert(x=mulaw(audio_split), y=speaker_id)\n",
    "\n",
    "out = mulaw_expanding(out_mulaw).detach()\n",
    "print(out.shape)\n",
    "out = out.view(1, -1)"
   ]
  },
  {
   "cell_type": "code",
   "execution_count": null,
   "metadata": {},
   "outputs": [
    {
     "data": {
      "text/plain": [
       "<matplotlib.collections.PolyCollection at 0x7fbe283de5c0>"
      ]
     },
     "execution_count": 51,
     "metadata": {},
     "output_type": "execute_result"
    }
   ],
   "source": [
    "plt.figure()\n",
    "librosa.display.waveplot(out[0].numpy())"
   ]
  },
  {
   "cell_type": "code",
   "execution_count": null,
   "metadata": {},
   "outputs": [],
   "source": [
    "out_path = os.path.expanduser(args.eval_out_path)\n",
    "out_filename = 'vae_{}_{}_{}.wav'.format(os.path.basename(args.eval_audio_path).split('.')[0], args.eval_speaker_id, epoch)\n",
    "out_file_path = os.path.join(out_path, out_filename)\n",
    "\n",
    "# Save as audio\n",
    "torchaudio.save(filepath=out_file_path, src=out, sample_rate=sr)"
   ]
  }
 ],
 "metadata": {
  "kernelspec": {
   "display_name": "Python 3",
   "language": "python",
   "name": "python3"
  },
  "language_info": {
   "codemirror_mode": {
    "name": "ipython",
    "version": 3
   },
   "file_extension": ".py",
   "mimetype": "text/x-python",
   "name": "python",
   "nbconvert_exporter": "python",
   "pygments_lexer": "ipython3",
   "version": "3.6.8"
  },
  "toc": {
   "base_numbering": 1,
   "nav_menu": {},
   "number_sections": true,
   "sideBar": true,
   "skip_h1_title": false,
   "title_cell": "Table of Contents",
   "title_sidebar": "Contents",
   "toc_cell": false,
   "toc_position": {},
   "toc_section_display": true,
   "toc_window_display": false
  }
 },
 "nbformat": 4,
 "nbformat_minor": 2
}
