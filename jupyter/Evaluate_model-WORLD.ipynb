{
 "cells": [
  {
   "cell_type": "code",
   "execution_count": 1,
   "metadata": {},
   "outputs": [],
   "source": [
    "import sys\n",
    "sys.path.append('..')\n",
    "import os\n",
    "os.chdir('..')\n",
    "import numpy as np\n",
    "import torch\n",
    "import torchaudio\n",
    "import os.path\n",
    "from util.arg_extractor import extract_args_from_json\n",
    "from experiment_builders.vqvae_builder import VQVAEWORLDExperimentBuilder\n",
    "from experiment_builders.vae_builder import VAEWORLDExperimentBuilder\n",
    "from models.vqvae import VQVAE\n",
    "from models.vae import VAE\n",
    "from datasets.vcc_world_preprocessor import read_audio_and_extract_features, synthesize_from_WORLD_features\n",
    "from datasets.vcc_world_dataset import VCCWORLDDataset\n",
    "import util.torchaudio_transforms as transforms\n",
    "import librosa.display\n",
    "import matplotlib.pyplot as plt\n",
    "torch.set_printoptions(profile=\"full\")"
   ]
  },
  {
   "cell_type": "code",
   "execution_count": 2,
   "metadata": {},
   "outputs": [],
   "source": [
    "dataset = VCCWORLDDataset('data', scale=True, eval=False)"
   ]
  },
  {
   "cell_type": "code",
   "execution_count": 55,
   "metadata": {},
   "outputs": [],
   "source": [
    "args = extract_args_from_json('experiment_configs/vae_vcc_world.json')\n",
    "args.eval_out_path='audio_out'\n",
    "args.eval_audio_path = 'data/vcc2016_training/SM2/100041.wav' "
   ]
  },
  {
   "cell_type": "code",
   "execution_count": 56,
   "metadata": {
    "scrolled": false
   },
   "outputs": [
    {
     "name": "stdout",
     "output_type": "stream",
     "text": [
      "(447, 513)\n"
     ]
    }
   ],
   "source": [
    "# Load audio\n",
    "audio_path = os.path.expanduser(args.eval_audio_path)\n",
    "spectra, aperiodicity, f0, energy = read_audio_and_extract_features(audio_path)\n",
    "print(spectra.shape)"
   ]
  },
  {
   "cell_type": "code",
   "execution_count": 57,
   "metadata": {},
   "outputs": [
    {
     "name": "stdout",
     "output_type": "stream",
     "text": [
      "(35760,)\n"
     ]
    },
    {
     "data": {
      "text/plain": [
       "<matplotlib.collections.PolyCollection at 0x7f33e3bd65c0>"
      ]
     },
     "execution_count": 57,
     "metadata": {},
     "output_type": "execute_result"
    },
    {
     "data": {
      "image/png": "[encoded data removed]",
      "text/plain": [
       "<Figure size 432x288 with 1 Axes>"
      ]
     },
     "metadata": {
      "needs_background": "light"
     },
     "output_type": "display_data"
    }
   ],
   "source": [
    "audio_in = synthesize_from_WORLD_features(f0, spectra, aperiodicity, energy)\n",
    "print(audio_in.shape)\n",
    "plt.figure()\n",
    "librosa.display.waveplot(audio_in)"
   ]
  },
  {
   "cell_type": "markdown",
   "metadata": {},
   "source": [
    "## VQVAE:"
   ]
  },
  {
   "cell_type": "code",
   "execution_count": 8,
   "metadata": {},
   "outputs": [
    {
     "name": "stdout",
     "output_type": "stream",
     "text": [
      "Building VQVAE.\n",
      "Building Encoder with 6 downsampling layers.\n",
      "torch.Size([1, 1, 513])\n",
      "torch.Size([1, 32, 171])\n",
      "torch.Size([1, 32, 171])\n",
      "torch.Size([1, 64, 57])\n",
      "torch.Size([1, 64, 57])\n",
      "torch.Size([1, 64, 19])\n",
      "torch.Size([1, 32, 19])\n",
      "Building VQ layer.\n",
      "VQ latent shape: torch.Size([1, 32, 19])\n",
      "speaker_out shape: torch.Size([1, 32, 19])\n",
      "Building Decoder/Generator with 7 upsampling layers.\n",
      "torch.Size([1, 32, 19])\n",
      "torch.Size([1, 32, 57])\n",
      "torch.Size([1, 32, 57])\n",
      "torch.Size([1, 16, 171])\n",
      "torch.Size([1, 16, 171])\n",
      "torch.Size([1, 8, 513])\n",
      "torch.Size([1, 8, 513])\n",
      "torch.Size([1, 1, 513])\n",
      "/home/vaidas/Projects/mlpcw/experiments/vqvae_vcc_world /home/vaidas/Projects/mlpcw/experiments/vqvae_vcc_world/result_outputs\n",
      "Loading model train_model, at epoch 12.\n"
     ]
    }
   ],
   "source": [
    "# Prepare model\n",
    "vqvae_model = VQVAE(\n",
    "    input_shape=(1, 1, args.input_len),\n",
    "    encoder_arch=args.encoder,\n",
    "    vq_arch=args.vq,\n",
    "    generator_arch=args.generator,\n",
    "    num_speakers=args.num_speakers,\n",
    "    speaker_dim=args.speaker_dim,\n",
    "    use_gated_convolutions=args.use_gated_convolutions)\n",
    "\n",
    "# Select epoch\n",
    "epoch = 12\n",
    "\n",
    "# Load model from state\n",
    "vqvae_experiment = VQVAEWORLDExperimentBuilder(network_model=vqvae_model,\n",
    "                                        experiment_name=args.experiment_name,\n",
    "                                        num_epochs=args.num_epochs,\n",
    "                                        weight_decay_coefficient=args.weight_decay_coefficient,\n",
    "                                        commit_coefficient=args.commit_coefficient,\n",
    "                                        learning_rate=args.learning_rate,\n",
    "                                        device=torch.device('cpu'),\n",
    "                                        continue_from_epoch=epoch,\n",
    "                                        train_data=None,\n",
    "                                        val_data=None)"
   ]
  },
  {
   "cell_type": "code",
   "execution_count": 45,
   "metadata": {},
   "outputs": [],
   "source": [
    "source_speaker_id = 1\n",
    "args.eval_speaker_id = 1\n",
    "# Prepare speaker tensor\n",
    "speaker_id = torch.tensor(args.eval_speaker_id, dtype=torch.long)"
   ]
  },
  {
   "cell_type": "code",
   "execution_count": 46,
   "metadata": {},
   "outputs": [
    {
     "name": "stdout",
     "output_type": "stream",
     "text": [
      "torch.Size([809, 513])\n"
     ]
    }
   ],
   "source": [
    "spectra_scaled = dataset.scale_spectra(torch.tensor(spectra)).unsqueeze(1)\n",
    "spectra_out = vqvae_experiment.convert(x=spectra_scaled, y=speaker_id)\n",
    "\n",
    "spectra_out = dataset.scale_spectra_back(spectra_out)\n",
    "f0_converted = dataset.convert_f0(torch.tensor(f0), source_speaker_id, args.eval_speaker_id)\n",
    "\n",
    "# Reshape back\n",
    "spectra_out = spectra_out.squeeze(1)\n",
    "\n",
    "print(spectra_out.shape)"
   ]
  },
  {
   "cell_type": "markdown",
   "metadata": {},
   "source": [
    "## VAE"
   ]
  },
  {
   "cell_type": "code",
   "execution_count": 21,
   "metadata": {
    "scrolled": true
   },
   "outputs": [
    {
     "name": "stdout",
     "output_type": "stream",
     "text": [
      "Building VAE.\n",
      "Building Encoder with 6 downsampling layers.\n",
      "torch.Size([1, 1, 513])\n",
      "torch.Size([1, 32, 171])\n",
      "torch.Size([1, 32, 171])\n",
      "torch.Size([1, 64, 57])\n",
      "torch.Size([1, 64, 57])\n",
      "torch.Size([1, 128, 19])\n",
      "torch.Size([1, 128, 19])\n",
      "mean shape: torch.Size([1, 64])\n",
      "logvar shape: torch.Size([1, 64])\n",
      "latent shape: torch.Size([1, 64])\n",
      "latent_out shape: torch.Size([1, 2432])\n",
      "speaker_out shape: torch.Size([1, 2432])\n",
      "latent_out reshaped: torch.Size([1, 128, 19])\n",
      "Building Decoder/Generator with 7 upsampling layers.\n",
      "torch.Size([1, 128, 19])\n",
      "torch.Size([1, 32, 57])\n",
      "torch.Size([1, 32, 57])\n",
      "torch.Size([1, 16, 171])\n",
      "torch.Size([1, 16, 171])\n",
      "torch.Size([1, 8, 513])\n",
      "torch.Size([1, 8, 513])\n",
      "torch.Size([1, 1, 513])\n",
      "/home/vaidas/Projects/mlpcw/experiments/vae_vcc_world /home/vaidas/Projects/mlpcw/experiments/vae_vcc_world/result_outputs\n",
      "Loading model train_model, at epoch 18.\n"
     ]
    }
   ],
   "source": [
    "vae_model = VAE(\n",
    "    input_shape=(1, 1, args.input_len),\n",
    "    encoder_arch=args.encoder,\n",
    "    generator_arch=args.generator,\n",
    "    latent_dim=args.latent_dim,\n",
    "    num_speakers=args.num_speakers,\n",
    "    speaker_dim=args.speaker_dim,\n",
    "    use_gated_convolutions=args.use_gated_convolutions)\n",
    "\n",
    "# Select epoch\n",
    "epoch = 18\n",
    "\n",
    "vae_experiment = VAEWORLDExperimentBuilder(network_model=vae_model,\n",
    "                                    experiment_name=args.experiment_name,\n",
    "                                    num_epochs=args.num_epochs,\n",
    "                                    weight_decay_coefficient=args.weight_decay_coefficient,\n",
    "                                    learning_rate=args.learning_rate,\n",
    "                                    device=torch.device('cpu'),\n",
    "                                    continue_from_epoch=epoch,\n",
    "                                    train_data=None,\n",
    "                                    val_data=None)"
   ]
  },
  {
   "cell_type": "code",
   "execution_count": 62,
   "metadata": {},
   "outputs": [],
   "source": [
    "source_speaker_id = 4\n",
    "args.eval_speaker_id = 9\n",
    "# Prepare speaker tensor\n",
    "speaker_id = torch.tensor(args.eval_speaker_id, dtype=torch.long)"
   ]
  },
  {
   "cell_type": "code",
   "execution_count": 63,
   "metadata": {
    "scrolled": true
   },
   "outputs": [
    {
     "name": "stdout",
     "output_type": "stream",
     "text": [
      "torch.Size([447, 513])\n"
     ]
    }
   ],
   "source": [
    "spectra_scaled = dataset.scale_spectra(torch.tensor(spectra)).unsqueeze(1)\n",
    "spectra_out = vae_experiment.convert(x=spectra_scaled, y=speaker_id)\n",
    "\n",
    "spectra_out = dataset.scale_spectra_back(spectra_out)\n",
    "f0_converted = dataset.convert_f0(torch.tensor(f0), source_speaker_id, args.eval_speaker_id)\n",
    "\n",
    "# Reshape back\n",
    "spectra_out = spectra_out.squeeze(1)\n",
    "\n",
    "print(spectra_out.shape)"
   ]
  },
  {
   "cell_type": "markdown",
   "metadata": {},
   "source": [
    "##### Test on random noise\n",
    "spectra_out = torch.tanh(torch.randn((997, 513))*2-1)\n",
    "print(spectra_out.shape)\n",
    "spectra_out = dataset.scale_spectra_back(spectra_out)"
   ]
  },
  {
   "cell_type": "code",
   "execution_count": 64,
   "metadata": {},
   "outputs": [
    {
     "name": "stdout",
     "output_type": "stream",
     "text": [
      "(35760,)\n"
     ]
    },
    {
     "data": {
      "text/plain": [
       "<matplotlib.collections.PolyCollection at 0x7f33e68aa390>"
      ]
     },
     "execution_count": 64,
     "metadata": {},
     "output_type": "execute_result"
    },
    {
     "data": {
      "image/png": "[encoded data removed]",
      "text/plain": [
       "<Figure size 432x288 with 1 Axes>"
      ]
     },
     "metadata": {
      "needs_background": "light"
     },
     "output_type": "display_data"
    }
   ],
   "source": [
    "audio_out = synthesize_from_WORLD_features(f0_converted.numpy(), spectra_out.numpy(), aperiodicity, energy)\n",
    "audio_out = np.clip(audio_out, a_min=-0.9, a_max=0.9)\n",
    "print(audio_out.shape)\n",
    "plt.figure()\n",
    "librosa.display.waveplot(audio_out)"
   ]
  },
  {
   "cell_type": "code",
   "execution_count": 65,
   "metadata": {},
   "outputs": [
    {
     "name": "stdout",
     "output_type": "stream",
     "text": [
      "audio_out/100041_9_18.wav\n"
     ]
    }
   ],
   "source": [
    "out_path = os.path.expanduser(args.eval_out_path)\n",
    "out_filename = '{}_{}_{}.wav'.format(os.path.basename(args.eval_audio_path).split('.')[0], args.eval_speaker_id, epoch)\n",
    "out_file_path = os.path.join(out_path, out_filename)\n",
    "print(out_file_path)\n",
    "\n",
    "# Save as audio\n",
    "torchaudio.save(filepath=out_file_path, src=torch.tensor(audio_out.copy()), sample_rate=16000)"
   ]
  },
  {
   "cell_type": "code",
   "execution_count": null,
   "metadata": {},
   "outputs": [],
   "source": []
  }
 ],
 "metadata": {
  "kernelspec": {
   "display_name": "Python 3",
   "language": "python",
   "name": "python3"
  },
  "language_info": {
   "codemirror_mode": {
    "name": "ipython",
    "version": 3
   },
   "file_extension": ".py",
   "mimetype": "text/x-python",
   "name": "python",
   "nbconvert_exporter": "python",
   "pygments_lexer": "ipython3",
   "version": "3.6.8"
  },
  "toc": {
   "base_numbering": 1,
   "nav_menu": {},
   "number_sections": true,
   "sideBar": true,
   "skip_h1_title": false,
   "title_cell": "Table of Contents",
   "title_sidebar": "Contents",
   "toc_cell": false,
   "toc_position": {},
   "toc_section_display": true,
   "toc_window_display": false
  }
 },
 "nbformat": 4,
 "nbformat_minor": 2
}
