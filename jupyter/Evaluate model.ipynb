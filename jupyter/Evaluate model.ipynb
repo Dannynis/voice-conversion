{
 "cells": [
  {
   "cell_type": "code",
   "execution_count": 1,
   "metadata": {},
   "outputs": [],
   "source": [
    "import sys\n",
    "sys.path.append('..')\n",
    "import os\n",
    "os.chdir('..')\n",
    "import torch\n",
    "import torchaudio\n",
    "import os.path\n",
    "from arg_extractor import extract_args_from_json\n",
    "from experiment_builder import VQVAEExperimentBuilder\n",
    "from model_architectures import VQVAE\n",
    "from vctk_preprocessor import read_audio\n",
    "import librosa.display\n",
    "import matplotlib.pyplot as plt"
   ]
  },
  {
   "cell_type": "code",
   "execution_count": 2,
   "metadata": {},
   "outputs": [],
   "source": [
    "args = extract_args_from_json('experiment_configs/vqvae_data20k_lr1e-6.json')\n",
    "args.continue_from_epoch = 0\n",
    "args.eval_speaker_id = 3\n",
    "args.eval_out_path='audio_out'\n",
    "\n",
    "args.eval_audio_path = 'data/VCTK-Corpus/wav48/p265/p265_075.wav'"
   ]
  },
  {
   "cell_type": "code",
   "execution_count": 3,
   "metadata": {},
   "outputs": [
    {
     "name": "stdout",
     "output_type": "stream",
     "text": [
      "torch.Size([1, 36925])\n"
     ]
    }
   ],
   "source": [
    "# Load audio\n",
    "audio_path = os.path.expanduser(args.eval_audio_path)\n",
    "torchaudio.initialize_sox()\n",
    "audio, sr = read_audio(audio_path, downsample=True, trim_silence=True)\n",
    "torchaudio.shutdown_sox()\n",
    "print(audio.shape)\n",
    "audio = audio.unsqueeze(0)"
   ]
  },
  {
   "cell_type": "code",
   "execution_count": 4,
   "metadata": {},
   "outputs": [
    {
     "name": "stdout",
     "output_type": "stream",
     "text": [
      "[-0.09838867 -0.03399658  0.10269165 ...  0.02957153  0.0262146\n",
      "  0.02975464]\n"
     ]
    },
    {
     "data": {
      "text/plain": [
       "<matplotlib.collections.PolyCollection at 0x7f55c28c4d68>"
      ]
     },
     "execution_count": 4,
     "metadata": {},
     "output_type": "execute_result"
    },
    {
     "data": {
      "image/png": "[encoded data removed]",
      "text/plain": [
       "<Figure size 432x288 with 1 Axes>"
      ]
     },
     "metadata": {
      "needs_background": "light"
     },
     "output_type": "display_data"
    }
   ],
   "source": [
    "audio_plain = audio.numpy()[0, 0]\n",
    "print(audio_plain)\n",
    "plt.figure()\n",
    "librosa.display.waveplot(audio_plain)"
   ]
  },
  {
   "cell_type": "code",
   "execution_count": 5,
   "metadata": {},
   "outputs": [],
   "source": [
    "# Prepare speaker tensor\n",
    "speaker_id = torch.tensor(args.eval_speaker_id, dtype=torch.long)"
   ]
  },
  {
   "cell_type": "code",
   "execution_count": 7,
   "metadata": {},
   "outputs": [
    {
     "name": "stdout",
     "output_type": "stream",
     "text": [
      "Building VQVAE.\n",
      "Building Encoder with 6 downsampling layers.\n",
      "torch.Size([1, 1, 20000])\n",
      "torch.Size([1, 16, 9999])\n",
      "torch.Size([1, 32, 4998])\n",
      "torch.Size([1, 64, 2498])\n",
      "torch.Size([1, 128, 1248])\n",
      "torch.Size([1, 128, 623])\n",
      "torch.Size([1, 128, 310])\n",
      "torch.Size([1, 64, 310])\n",
      "Building VQ layer.\n",
      "Building Decoder/Generator with 7 upsampling layers.\n",
      "torch.Size([1, 64, 310])\n",
      "torch.Size([1, 128, 602])\n",
      "torch.Size([1, 128, 1185])\n",
      "torch.Size([1, 128, 2361])\n",
      "torch.Size([1, 64, 4749])\n",
      "torch.Size([1, 32, 9487])\n",
      "torch.Size([1, 16, 18977])\n",
      "torch.Size([1, 1, 20000])\n",
      "/home/vaidas/Projects/mlpcw/experiments/vqvae_data20k_lr1e-6 /home/vaidas/Projects/mlpcw/experiments/vqvae_data20k_lr1e-6/result_outputs\n",
      "Loading model train_model, at epoch latest.\n"
     ]
    }
   ],
   "source": [
    "# Prepare model\n",
    "vqvae_model = VQVAE(\n",
    "    input_shape=(1, 1, args.input_max_len),\n",
    "    encoder_arch=args.encoder,\n",
    "    vq_arch=args.vq,\n",
    "    generator_arch=args.generator,\n",
    "    num_speakers=109)\n",
    "\n",
    "# Load model from state\n",
    "vqvae_experiment = VQVAEExperimentBuilder(network_model=vqvae_model,\n",
    "                                    experiment_name=args.experiment_name,\n",
    "                                    weight_decay_coefficient=args.weight_decay_coefficient,\n",
    "                                    learning_rate=args.learning_rate,\n",
    "                                    commit_coefficient=args.commit_coefficient,\n",
    "                                    device=torch.device('cpu'),\n",
    "                                    continue_from_epoch=-2,\n",
    "                                    train_data=None,\n",
    "                                    val_data=None,\n",
    "                                    test_data=None,\n",
    "                                    num_epochs=None)"
   ]
  },
  {
   "cell_type": "code",
   "execution_count": 8,
   "metadata": {},
   "outputs": [],
   "source": [
    "out = vqvae_experiment.convert(x=audio, y=speaker_id)[0].detach()"
   ]
  },
  {
   "cell_type": "code",
   "execution_count": 9,
   "metadata": {},
   "outputs": [
    {
     "data": {
      "text/plain": [
       "<matplotlib.collections.PolyCollection at 0x7f55c27d3208>"
      ]
     },
     "execution_count": 9,
     "metadata": {},
     "output_type": "execute_result"
    },
    {
     "data": {
      "image/png": "[encoded data removed]",
      "text/plain": [
       "<Figure size 432x288 with 1 Axes>"
      ]
     },
     "metadata": {
      "needs_background": "light"
     },
     "output_type": "display_data"
    }
   ],
   "source": [
    "plt.figure()\n",
    "librosa.display.waveplot(out[0].numpy())"
   ]
  },
  {
   "cell_type": "code",
   "execution_count": 10,
   "metadata": {},
   "outputs": [
    {
     "data": {
      "text/plain": [
       "torch.Size([1, 36896])"
      ]
     },
     "execution_count": 10,
     "metadata": {},
     "output_type": "execute_result"
    }
   ],
   "source": [
    "out.shape"
   ]
  },
  {
   "cell_type": "code",
   "execution_count": 10,
   "metadata": {},
   "outputs": [],
   "source": [
    "out_path = os.path.expanduser(args.eval_out_path)\n",
    "out_filename = '{}_{}.wav'.format(os.path.basename(args.eval_audio_path).split('.')[0], args.eval_speaker_id)\n",
    "out_file_path = os.path.join(out_path, out_filename)\n",
    "\n",
    "# Save as audio\n",
    "torchaudio.save(filepath=out_file_path, src=out, sample_rate=sr)"
   ]
  },
  {
   "cell_type": "code",
   "execution_count": null,
   "metadata": {},
   "outputs": [],
   "source": []
  }
 ],
 "metadata": {
  "kernelspec": {
   "display_name": "Python 3",
   "language": "python",
   "name": "python3"
  },
  "language_info": {
   "codemirror_mode": {
    "name": "ipython",
    "version": 3
   },
   "file_extension": ".py",
   "mimetype": "text/x-python",
   "name": "python",
   "nbconvert_exporter": "python",
   "pygments_lexer": "ipython3",
   "version": "3.6.8"
  }
 },
 "nbformat": 4,
 "nbformat_minor": 2
}
