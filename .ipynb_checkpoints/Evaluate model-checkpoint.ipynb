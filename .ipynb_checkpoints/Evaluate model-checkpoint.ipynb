{
 "cells": [
  {
   "cell_type": "code",
   "execution_count": 1,
   "metadata": {},
   "outputs": [],
   "source": [
    "import sys\n",
    "import os\n",
    "import torch\n",
    "import torchaudio\n",
    "import os.path\n",
    "from arg_extractor import extract_args_from_json\n",
    "from experiment_builder import VQVAEExperimentBuilder\n",
    "from model_architectures import VQVAE\n",
    "from vctk_preprocessor import read_audio\n",
    "import librosa.display\n",
    "import matplotlib.pyplot as plt"
   ]
  },
  {
   "cell_type": "code",
   "execution_count": 2,
   "metadata": {},
   "outputs": [],
   "source": [
    "args = extract_args_from_json('experiment_configs/vqvae_data20k_lr1e-6.json')\n",
    "args.continue_from_epoch = 0\n",
    "args.eval_speaker_id = 3\n",
    "args.eval_out_path='audio_out'\n",
    "\n",
    "args.eval_audio_path = 'data/VCTK-Corpus/wav48/p265/p265_072.wav'"
   ]
  },
  {
   "cell_type": "code",
   "execution_count": 3,
   "metadata": {},
   "outputs": [
    {
     "name": "stdout",
     "output_type": "stream",
     "text": [
      "torch.Size([1, 66941])\n"
     ]
    }
   ],
   "source": [
    "# Load audio\n",
    "audio_path = os.path.expanduser(args.eval_audio_path)\n",
    "torchaudio.initialize_sox()\n",
    "audio, sr = read_audio(audio_path, downsample=True, trim_silence=True)\n",
    "torchaudio.shutdown_sox()\n",
    "print(audio.shape)\n",
    "audio = audio.unsqueeze(0)"
   ]
  },
  {
   "cell_type": "code",
   "execution_count": 4,
   "metadata": {},
   "outputs": [
    {
     "name": "stdout",
     "output_type": "stream",
     "text": [
      "[-0.00762939 -0.01257324 -0.01089478 ... -0.01016235 -0.01074219\n",
      " -0.00891113]\n"
     ]
    },
    {
     "data": {
      "text/plain": [
       "<matplotlib.collections.PolyCollection at 0x7fa32b343f98>"
      ]
     },
     "execution_count": 4,
     "metadata": {},
     "output_type": "execute_result"
    },
    {
     "data": {
      "image/png": "[encoded data removed]",
      "text/plain": [
       "<Figure size 432x288 with 1 Axes>"
      ]
     },
     "metadata": {
      "needs_background": "light"
     },
     "output_type": "display_data"
    }
   ],
   "source": [
    "audio_plain = audio.numpy()[0, 0]\n",
    "print(audio_plain)\n",
    "plt.figure()\n",
    "librosa.display.waveplot(audio_plain)"
   ]
  },
  {
   "cell_type": "code",
   "execution_count": 5,
   "metadata": {},
   "outputs": [],
   "source": [
    "# Prepare speaker tensor\n",
    "speaker_id = torch.tensor(args.eval_speaker_id, dtype=torch.long)"
   ]
  },
  {
   "cell_type": "code",
   "execution_count": 6,
   "metadata": {},
   "outputs": [
    {
     "name": "stdout",
     "output_type": "stream",
     "text": [
      "Building VQVAE.\n",
      "Building Encoder with 6 downsampling layers.\n",
      "torch.Size([1, 1, 20000])\n",
      "torch.Size([1, 16, 9999])\n",
      "torch.Size([1, 32, 4998])\n",
      "torch.Size([1, 64, 2498])\n",
      "torch.Size([1, 128, 1248])\n",
      "torch.Size([1, 128, 623])\n",
      "torch.Size([1, 128, 310])\n",
      "torch.Size([1, 64, 310])\n",
      "Building VQ layer.\n",
      "Parameter containing:\n",
      "tensor([[ 1.8747e-03, -8.0369e-04, -8.7762e-04,  ...,  9.1265e-04,\n",
      "          1.2546e-03, -2.7460e-04],\n",
      "        [-2.1906e-04,  1.0455e-03,  5.4315e-04,  ...,  1.4263e-03,\n",
      "         -7.3648e-04,  1.5738e-03],\n",
      "        [-1.1178e-03,  1.7312e-03,  1.5445e-03,  ...,  1.0919e-03,\n",
      "         -3.7294e-04,  1.5086e-03],\n",
      "        ...,\n",
      "        [-1.6243e-03,  1.4209e-03, -1.0857e-03,  ..., -1.4244e-03,\n",
      "         -1.3915e-03, -5.3042e-04],\n",
      "        [ 5.1613e-05, -1.6499e-03, -1.0616e-03,  ...,  7.6844e-04,\n",
      "         -1.5052e-03, -3.4014e-04],\n",
      "        [-1.4233e-03, -6.7406e-04, -1.8398e-03,  ...,  2.9834e-04,\n",
      "         -1.8345e-03,  1.2551e-03]], requires_grad=True)\n",
      "tensor([[[ 0.0459,  0.0182,  0.0242,  ..., -0.0888, -0.0222, -0.0465],\n",
      "         [ 0.0459,  0.0182,  0.0242,  ..., -0.0888, -0.0222, -0.0465],\n",
      "         [ 0.0459,  0.0182,  0.0242,  ..., -0.0888, -0.0222, -0.0465],\n",
      "         ...,\n",
      "         [ 0.0459,  0.0182,  0.0242,  ..., -0.0888, -0.0222, -0.0465],\n",
      "         [ 0.0459,  0.0182,  0.0242,  ..., -0.0888, -0.0222, -0.0465],\n",
      "         [ 0.0459,  0.0182,  0.0242,  ..., -0.0888, -0.0222, -0.0465]]],\n",
      "       grad_fn=<CloneBackward>)\n",
      "tensor([[414, 414, 414, 414, 414, 414, 414, 414, 414, 414, 414, 414, 414, 414,\n",
      "         414, 414, 414, 414, 414, 414, 414, 414, 414, 414, 414, 414, 414, 414,\n",
      "         414, 414, 414, 414, 414, 414, 414, 414, 414, 414, 414, 414, 414, 414,\n",
      "         414, 414, 414, 414, 414, 414, 414, 414, 414, 414, 414, 414, 414, 414,\n",
      "         414, 414, 414, 414, 414, 414, 414, 414, 414, 414, 414, 414, 414, 414,\n",
      "         414, 414, 414, 414, 414, 414, 414, 414, 414, 414, 414, 414, 414, 414,\n",
      "         414, 414, 414, 414, 414, 414, 414, 414, 414, 414, 414, 414, 414, 414,\n",
      "         414, 414, 414, 414, 414, 414, 414, 414, 414, 414, 414, 414, 414, 414,\n",
      "         414, 414, 414, 414, 414, 414, 414, 414, 414, 414, 414, 414, 414, 414,\n",
      "         414, 414, 414, 414, 414, 414, 414, 414, 414, 414, 414, 414, 414, 414,\n",
      "         414, 414, 414, 414, 414, 414, 414, 414, 414, 414, 414, 414, 414, 414,\n",
      "         414, 414, 414, 414, 414, 414, 414, 414, 414, 414, 414, 414, 414, 414,\n",
      "         414, 414, 414, 414, 414, 414, 414, 414, 414, 414, 414, 414, 414, 414,\n",
      "         414, 414, 414, 414, 414, 414, 414, 414, 414, 414, 414, 414, 414, 414,\n",
      "         414, 414, 414, 414, 414, 414, 414, 414, 414, 414, 414, 414, 414, 414,\n",
      "         414, 414, 414, 414, 414, 414, 414, 414, 414, 414, 414, 414, 414, 414,\n",
      "         414, 414, 414, 414, 414, 414, 414, 414, 414, 414, 414, 414, 414, 414,\n",
      "         414, 414, 414, 414, 414, 414, 414, 414, 414, 414, 414, 414, 414, 414,\n",
      "         414, 414, 414, 414, 414, 414, 414, 414, 414, 414, 414, 414, 414, 414,\n",
      "         414, 414, 414, 414, 414, 414, 414, 414, 414, 414, 414, 414, 414, 414,\n",
      "         414, 414, 414, 414, 414, 414, 414, 414, 414, 414, 414, 414, 414, 414,\n",
      "         414, 414, 414, 414, 414, 414, 414, 414, 414, 414, 414, 414, 414, 414,\n",
      "         414, 414]])\n",
      "Building Decoder/Generator with 7 upsampling layers.\n",
      "torch.Size([1, 64, 310])\n",
      "torch.Size([1, 128, 602])\n",
      "torch.Size([1, 128, 1185])\n",
      "torch.Size([1, 128, 2361])\n",
      "torch.Size([1, 64, 4749])\n",
      "torch.Size([1, 32, 9487])\n",
      "torch.Size([1, 16, 18977])\n",
      "torch.Size([1, 1, 20000])\n",
      "use CPU\n",
      "/home/vaidas/Projects/mlpcw/experiments/vqvae_data20k_lr1e-6 /home/vaidas/Projects/mlpcw/experiments/vqvae_data20k_lr1e-6/result_outputs\n",
      "Loading model train_model, at epoch 0.\n"
     ]
    }
   ],
   "source": [
    "# Prepare model\n",
    "vqvae_model = VQVAE(\n",
    "    input_shape=(1, 1, args.input_max_len),\n",
    "    encoder_arch=args.encoder,\n",
    "    vq_arch=args.vq,\n",
    "    generator_arch=args.generator,\n",
    "    num_speakers=109)\n",
    "\n",
    "# Load model from state\n",
    "vqvae_experiment = VQVAEExperimentBuilder(network_model=vqvae_model,\n",
    "                                    experiment_name=args.experiment_name,\n",
    "                                    weight_decay_coefficient=args.weight_decay_coefficient,\n",
    "                                    learning_rate=args.learning_rate,\n",
    "                                    commit_coefficient=args.commit_coefficient,\n",
    "                                    gpu_id=0,\n",
    "                                    use_gpu=False,\n",
    "                                    continue_from_epoch=-2,\n",
    "                                    train_data=None,\n",
    "                                    val_data=None,\n",
    "                                    test_data=None,\n",
    "                                    num_epochs=None)"
   ]
  },
  {
   "cell_type": "code",
   "execution_count": 7,
   "metadata": {},
   "outputs": [
    {
     "name": "stdout",
     "output_type": "stream",
     "text": [
      "Parameter containing:\n",
      "tensor([[ 8.1289e-05, -6.8075e-06, -5.5099e-05,  ..., -5.8067e-05,\n",
      "         -5.2682e-05,  2.6972e-05],\n",
      "        [ 7.8618e-06,  9.1398e-05, -4.4523e-05,  ..., -2.7176e-05,\n",
      "          4.7365e-05,  1.7566e-05],\n",
      "        [-2.7821e-05, -4.1914e-06,  2.2376e-07,  ...,  1.9020e-05,\n",
      "          2.4161e-05, -1.0023e-04],\n",
      "        ...,\n",
      "        [-5.3450e-05,  4.3239e-05,  1.0015e-04,  ...,  2.8294e-05,\n",
      "         -3.2643e-05,  8.0992e-05],\n",
      "        [-9.2783e-05,  3.6058e-06,  4.7442e-05,  ...,  1.2238e-05,\n",
      "          9.3785e-05,  9.6067e-06],\n",
      "        [-6.9311e-05,  2.3401e-05,  2.1423e-05,  ..., -5.5754e-05,\n",
      "          9.2361e-05,  4.3284e-06]], requires_grad=True)\n",
      "tensor([[[ 0.0021, -0.0014,  0.0001,  ..., -0.0009,  0.0029,  0.0034],\n",
      "         [ 0.0021, -0.0014,  0.0001,  ..., -0.0009,  0.0029,  0.0034],\n",
      "         [ 0.0021, -0.0014,  0.0001,  ..., -0.0009,  0.0029,  0.0034],\n",
      "         ...,\n",
      "         [ 0.0021, -0.0014,  0.0001,  ..., -0.0009,  0.0029,  0.0034],\n",
      "         [ 0.0021, -0.0014,  0.0001,  ..., -0.0009,  0.0029,  0.0034],\n",
      "         [ 0.0021, -0.0014,  0.0001,  ..., -0.0009,  0.0029,  0.0034]]],\n",
      "       grad_fn=<CloneBackward>)\n",
      "tensor([[315, 315, 315,  ..., 315, 315, 315]])\n"
     ]
    }
   ],
   "source": [
    "out = vqvae_experiment.convert(x=audio, y=speaker_id)[0].detach()"
   ]
  },
  {
   "cell_type": "code",
   "execution_count": null,
   "metadata": {},
   "outputs": [],
   "source": [
    "plt.figure()\n",
    "librosa.display.waveplot(out[0].numpy())"
   ]
  },
  {
   "cell_type": "code",
   "execution_count": null,
   "metadata": {},
   "outputs": [],
   "source": [
    "out.shape"
   ]
  },
  {
   "cell_type": "code",
   "execution_count": null,
   "metadata": {},
   "outputs": [],
   "source": [
    "out_path = os.path.expanduser(args.eval_out_path)\n",
    "out_filename = '{}_{}.wav'.format(os.path.basename(args.eval_audio_path).split('.')[0], args.eval_speaker_id)\n",
    "out_file_path = os.path.join(out_path, out_filename)\n",
    "\n",
    "# Save as audio\n",
    "torchaudio.save(filepath=out_file_path, src=out, sample_rate=sr)"
   ]
  },
  {
   "cell_type": "code",
   "execution_count": null,
   "metadata": {},
   "outputs": [],
   "source": []
  }
 ],
 "metadata": {
  "kernelspec": {
   "display_name": "Python 3",
   "language": "python",
   "name": "python3"
  },
  "language_info": {
   "codemirror_mode": {
    "name": "ipython",
    "version": 3
   },
   "file_extension": ".py",
   "mimetype": "text/x-python",
   "name": "python",
   "nbconvert_exporter": "python",
   "pygments_lexer": "ipython3",
   "version": "3.6.8"
  }
 },
 "nbformat": 4,
 "nbformat_minor": 2
}
